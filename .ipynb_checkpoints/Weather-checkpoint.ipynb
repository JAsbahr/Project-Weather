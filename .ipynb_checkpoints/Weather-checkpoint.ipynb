{
 "cells": [
  {
   "cell_type": "code",
   "execution_count": 1,
   "metadata": {},
   "outputs": [],
   "source": [
    "import numpy as np\n",
    "import pandas as pd"
   ]
  },
  {
   "cell_type": "code",
   "execution_count": 2,
   "metadata": {},
   "outputs": [],
   "source": [
    "weather = pd.read_csv(\"hamburg_and_Global_data.csv\")"
   ]
  },
  {
   "cell_type": "code",
   "execution_count": 25,
   "metadata": {},
   "outputs": [
    {
     "data": {
      "text/html": [
       "<div>\n",
       "<style scoped>\n",
       "    .dataframe tbody tr th:only-of-type {\n",
       "        vertical-align: middle;\n",
       "    }\n",
       "\n",
       "    .dataframe tbody tr th {\n",
       "        vertical-align: top;\n",
       "    }\n",
       "\n",
       "    .dataframe thead th {\n",
       "        text-align: right;\n",
       "    }\n",
       "</style>\n",
       "<table border=\"1\" class=\"dataframe\">\n",
       "  <thead>\n",
       "    <tr style=\"text-align: right;\">\n",
       "      <th></th>\n",
       "      <th>year</th>\n",
       "      <th>avg_temp_HH</th>\n",
       "      <th>7day_ma_HH</th>\n",
       "      <th>avg_temp_gl</th>\n",
       "      <th>7day_ma_gl</th>\n",
       "    </tr>\n",
       "  </thead>\n",
       "  <tbody>\n",
       "    <tr>\n",
       "      <th>0</th>\n",
       "      <td>1750.0</td>\n",
       "      <td>9.31</td>\n",
       "      <td>NaN</td>\n",
       "      <td>8.72</td>\n",
       "      <td>NaN</td>\n",
       "    </tr>\n",
       "    <tr>\n",
       "      <th>1</th>\n",
       "      <td>1751.0</td>\n",
       "      <td>8.94</td>\n",
       "      <td>NaN</td>\n",
       "      <td>7.98</td>\n",
       "      <td>NaN</td>\n",
       "    </tr>\n",
       "    <tr>\n",
       "      <th>2</th>\n",
       "      <td>1752.0</td>\n",
       "      <td>4.65</td>\n",
       "      <td>NaN</td>\n",
       "      <td>5.78</td>\n",
       "      <td>NaN</td>\n",
       "    </tr>\n",
       "    <tr>\n",
       "      <th>3</th>\n",
       "      <td>1753.0</td>\n",
       "      <td>8.12</td>\n",
       "      <td>NaN</td>\n",
       "      <td>8.39</td>\n",
       "      <td>NaN</td>\n",
       "    </tr>\n",
       "    <tr>\n",
       "      <th>4</th>\n",
       "      <td>1754.0</td>\n",
       "      <td>7.88</td>\n",
       "      <td>NaN</td>\n",
       "      <td>8.47</td>\n",
       "      <td>NaN</td>\n",
       "    </tr>\n",
       "    <tr>\n",
       "      <th>5</th>\n",
       "      <td>1755.0</td>\n",
       "      <td>7.69</td>\n",
       "      <td>NaN</td>\n",
       "      <td>8.36</td>\n",
       "      <td>NaN</td>\n",
       "    </tr>\n",
       "    <tr>\n",
       "      <th>6</th>\n",
       "      <td>1756.0</td>\n",
       "      <td>8.64</td>\n",
       "      <td>7.89</td>\n",
       "      <td>8.85</td>\n",
       "      <td>8.08</td>\n",
       "    </tr>\n",
       "    <tr>\n",
       "      <th>7</th>\n",
       "      <td>1757.0</td>\n",
       "      <td>8.48</td>\n",
       "      <td>7.77</td>\n",
       "      <td>9.02</td>\n",
       "      <td>8.12</td>\n",
       "    </tr>\n",
       "    <tr>\n",
       "      <th>8</th>\n",
       "      <td>1758.0</td>\n",
       "      <td>7.76</td>\n",
       "      <td>7.60</td>\n",
       "      <td>6.74</td>\n",
       "      <td>7.94</td>\n",
       "    </tr>\n",
       "    <tr>\n",
       "      <th>9</th>\n",
       "      <td>1759.0</td>\n",
       "      <td>8.69</td>\n",
       "      <td>8.18</td>\n",
       "      <td>7.99</td>\n",
       "      <td>8.26</td>\n",
       "    </tr>\n",
       "  </tbody>\n",
       "</table>\n",
       "</div>"
      ],
      "text/plain": [
       "     year  avg_temp_HH  7day_ma_HH  avg_temp_gl  7day_ma_gl\n",
       "0  1750.0         9.31         NaN         8.72         NaN\n",
       "1  1751.0         8.94         NaN         7.98         NaN\n",
       "2  1752.0         4.65         NaN         5.78         NaN\n",
       "3  1753.0         8.12         NaN         8.39         NaN\n",
       "4  1754.0         7.88         NaN         8.47         NaN\n",
       "5  1755.0         7.69         NaN         8.36         NaN\n",
       "6  1756.0         8.64        7.89         8.85        8.08\n",
       "7  1757.0         8.48        7.77         9.02        8.12\n",
       "8  1758.0         7.76        7.60         6.74        7.94\n",
       "9  1759.0         8.69        8.18         7.99        8.26"
      ]
     },
     "execution_count": 25,
     "metadata": {},
     "output_type": "execute_result"
    }
   ],
   "source": [
    "weather.head(10)"
   ]
  },
  {
   "cell_type": "code",
   "execution_count": 16,
   "metadata": {},
   "outputs": [],
   "source": [
    "ma_HH = weather[\"7day_ma_HH\"].to_numpy()"
   ]
  },
  {
   "cell_type": "code",
   "execution_count": 17,
   "metadata": {},
   "outputs": [],
   "source": [
    "ma_gl = weather[\"7day_ma_gl\"].to_numpy()"
   ]
  },
  {
   "cell_type": "code",
   "execution_count": 21,
   "metadata": {},
   "outputs": [],
   "source": [
    "year = weather[\"year\"].to_numpy()"
   ]
  },
  {
   "cell_type": "code",
   "execution_count": 6,
   "metadata": {},
   "outputs": [],
   "source": [
    "import matplotlib.pyplot as plt\n",
    "%matplotlib inline"
   ]
  },
  {
   "cell_type": "code",
   "execution_count": 27,
   "metadata": {},
   "outputs": [
    {
     "data": {
      "text/plain": [
       "array([ nan,  nan,  nan,  nan,  nan,  nan, 7.89, 7.77, 7.6 , 8.18, 8.21,\n",
       "       8.35, 8.37, 8.25, 8.22, 8.24, 8.18, 8.07, 7.9 , 7.92, 7.94, 7.78,\n",
       "       7.83, 7.93, 7.95, 8.18, 8.19, 8.16, 8.39, 8.62, 8.53, 8.75, 8.52,\n",
       "       8.67, 8.55, 8.31, 7.91, 7.94, 7.72, 7.81, 7.73, 7.99, 8.18, 8.39,\n",
       "       8.49, 8.52, 8.55, 8.65, 8.65, 8.36, 8.28, 8.21, 8.24, 8.09, 7.89,\n",
       "       7.59, 7.94, 8.02, 7.86, 7.82, 7.87, 8.08, 8.11, 8.02, 7.8 , 7.82,\n",
       "       7.7 , 7.77, 7.67, 7.95, 7.83, 8.06, 8.29, 8.37, 8.47, 8.5 , 8.53,\n",
       "       8.66, 8.67, 8.18, 8.15, 8.13, 8.  , 7.9 , 8.12, 8.09, 8.39, 8.41,\n",
       "       8.1 , 8.08, 7.94, 7.72, 7.74, 7.78, 7.72, 7.82, 8.05, 8.13, 8.13,\n",
       "       7.99, 7.88, 8.  , 8.23, 7.86, 7.91, 7.65, 7.67, 7.85, 7.81, 7.84,\n",
       "       7.9 , 7.92, 8.21, 8.41, 8.1 , 8.19, 8.14, 8.2 , 8.38, 8.35, 8.08,\n",
       "       8.1 , 8.23, 8.21, 8.32, 8.07, 8.04, 8.16, 8.43, 8.05, 8.03, 7.83,\n",
       "       7.95, 7.98, 8.09, 7.96, 8.15, 8.  , 7.98, 7.87, 7.81, 7.65, 7.61,\n",
       "       7.62, 7.77, 7.87, 7.91, 7.96, 8.09, 8.25, 8.31, 8.25, 8.18, 8.25,\n",
       "       8.3 , 8.23, 8.26, 8.18, 8.17, 8.22, 8.26, 8.39, 8.37, 8.4 , 8.58,\n",
       "       8.55, 8.67, 8.51, 8.4 , 8.29, 8.26, 8.26, 8.19, 8.1 , 8.09, 8.1 ,\n",
       "       8.32, 8.24, 8.11, 8.12, 8.29, 8.31, 8.33, 8.25, 8.51, 8.59, 8.78,\n",
       "       8.76, 8.97, 8.98, 8.74, 8.35, 8.11, 8.17, 8.17, 8.15, 8.09, 8.32,\n",
       "       8.62, 8.95, 8.91, 8.92, 8.74, 8.86, 8.82, 8.62, 8.31, 8.33, 8.26,\n",
       "       8.46, 8.36, 8.53, 8.47, 8.47, 8.37, 8.29, 8.17, 8.27, 8.2 , 8.28,\n",
       "       8.37, 8.47, 8.53, 8.58, 8.56, 8.67, 8.76, 8.9 , 8.81, 8.71, 8.6 ,\n",
       "       8.48, 8.43, 8.53, 8.46, 8.38, 8.44, 8.38, 8.51, 8.63, 8.73, 8.78,\n",
       "       9.09, 9.16, 9.47, 9.44, 9.08, 8.97, 9.04, 9.07, 9.29, 9.21, 9.31,\n",
       "       9.61, 9.64, 9.68, 9.69, 9.73, 9.85, 9.82, 9.6 , 9.64, 9.58, 9.44,\n",
       "       9.29, 9.14])"
      ]
     },
     "execution_count": 27,
     "metadata": {},
     "output_type": "execute_result"
    }
   ],
   "source": [
    "ma_HH"
   ]
  },
  {
   "cell_type": "code",
   "execution_count": 18,
   "metadata": {},
   "outputs": [
    {
     "data": {
      "text/plain": [
       "array([ nan,  nan,  nan,  nan,  nan,  nan, 8.08, 8.12, 7.94, 8.26, 8.09,\n",
       "       8.13, 8.17, 7.97, 7.89, 8.1 , 8.16, 8.31, 8.02, 7.89, 7.92, 7.84,\n",
       "       7.83, 7.81, 7.88, 8.23, 8.31, 8.4 , 8.49, 8.61, 8.78, 8.68, 8.5 ,\n",
       "       8.41, 8.36, 8.19, 8.08, 7.88, 7.93, 8.  , 8.04, 8.09, 8.2 , 8.19,\n",
       "       8.26, 8.25, 8.24, 8.32, 8.38, 8.44, 8.47, 8.48, 8.52, 8.55, 8.6 ,\n",
       "       8.58, 8.57, 8.54, 8.4 , 8.19, 7.96, 7.68, 7.46, 7.37, 7.27, 7.21,\n",
       "       7.19, 7.2 , 7.34, 7.38, 7.37, 7.44, 7.57, 7.69, 7.91, 7.99, 8.13,\n",
       "       8.3 , 8.31, 8.28, 8.39, 8.26, 8.13, 8.08, 7.98, 7.87, 7.84, 7.67,\n",
       "       7.66, 7.68, 7.65, 7.59, 7.68, 7.74, 7.78, 7.83, 7.96, 8.  , 8.04,\n",
       "       8.04, 8.  , 8.08, 8.11, 8.04, 8.06, 8.07, 8.08, 8.06, 8.05, 8.07,\n",
       "       8.06, 8.  , 7.93, 7.94, 7.97, 7.98, 7.99, 8.06, 8.12, 8.24, 8.25,\n",
       "       8.27, 8.27, 8.28, 8.28, 8.23, 8.18, 8.22, 8.33, 8.32, 8.29, 8.27,\n",
       "       8.31, 8.29, 8.18, 8.05, 8.02, 7.99, 7.96, 7.99, 7.99, 8.03, 8.05,\n",
       "       8.06, 8.1 , 8.11, 8.09, 8.14, 8.16, 8.21, 8.27, 8.32, 8.35, 8.35,\n",
       "       8.32, 8.33, 8.32, 8.24, 8.19, 8.18, 8.18, 8.19, 8.18, 8.17, 8.26,\n",
       "       8.32, 8.33, 8.3 , 8.29, 8.32, 8.33, 8.33, 8.3 , 8.33, 8.4 , 8.45,\n",
       "       8.5 , 8.53, 8.54, 8.51, 8.54, 8.57, 8.6 , 8.54, 8.56, 8.54, 8.59,\n",
       "       8.6 , 8.62, 8.62, 8.68, 8.7 , 8.73, 8.76, 8.78, 8.74, 8.73, 8.74,\n",
       "       8.74, 8.72, 8.66, 8.63, 8.64, 8.66, 8.63, 8.61, 8.57, 8.62, 8.64,\n",
       "       8.65, 8.61, 8.65, 8.66, 8.75, 8.7 , 8.67, 8.65, 8.66, 8.62, 8.6 ,\n",
       "       8.58, 8.61, 8.6 , 8.65, 8.62, 8.65, 8.62, 8.64, 8.65, 8.68, 8.69,\n",
       "       8.79, 8.77, 8.87, 8.85, 8.84, 8.86, 8.86, 8.86, 8.9 , 8.93, 9.  ,\n",
       "       9.03, 9.03, 9.04, 9.06, 9.08, 9.07, 9.12, 9.19, 9.23, 9.29, 9.32,\n",
       "       9.39, 9.41, 9.43, 9.47, 9.54, 9.54, 9.54, 9.56, 9.59, 9.56, 9.57,\n",
       "       9.55, 9.61])"
      ]
     },
     "execution_count": 18,
     "metadata": {},
     "output_type": "execute_result"
    }
   ],
   "source": [
    "ma_gl"
   ]
  },
  {
   "cell_type": "code",
   "execution_count": 22,
   "metadata": {},
   "outputs": [
    {
     "data": {
      "text/plain": [
       "array([1750., 1751., 1752., 1753., 1754., 1755., 1756., 1757., 1758.,\n",
       "       1759., 1760., 1761., 1762., 1763., 1764., 1765., 1766., 1767.,\n",
       "       1768., 1769., 1770., 1771., 1772., 1773., 1774., 1775., 1776.,\n",
       "       1777., 1778., 1779., 1780., 1781., 1782., 1783., 1784., 1785.,\n",
       "       1786., 1787., 1788., 1789., 1790., 1791., 1792., 1793., 1794.,\n",
       "       1795., 1796., 1797., 1798., 1799., 1800., 1801., 1802., 1803.,\n",
       "       1804., 1805., 1806., 1807., 1808., 1809., 1810., 1811., 1812.,\n",
       "       1813., 1814., 1815., 1816., 1817., 1818., 1819., 1820., 1821.,\n",
       "       1822., 1823., 1824., 1825., 1826., 1827., 1828., 1829., 1830.,\n",
       "       1831., 1832., 1833., 1834., 1835., 1836., 1837., 1838., 1839.,\n",
       "       1840., 1841., 1842., 1843., 1844., 1845., 1846., 1847., 1848.,\n",
       "       1849., 1850., 1851., 1852., 1853., 1854., 1855., 1856., 1857.,\n",
       "       1858., 1859., 1860., 1861., 1862., 1863., 1864., 1865., 1866.,\n",
       "       1867., 1868., 1869., 1870., 1871., 1872., 1873., 1874., 1875.,\n",
       "       1876., 1877., 1878., 1879., 1880., 1881., 1882., 1883., 1884.,\n",
       "       1885., 1886., 1887., 1888., 1889., 1890., 1891., 1892., 1893.,\n",
       "       1894., 1895., 1896., 1897., 1898., 1899., 1900., 1901., 1902.,\n",
       "       1903., 1904., 1905., 1906., 1907., 1908., 1909., 1910., 1911.,\n",
       "       1912., 1913., 1914., 1915., 1916., 1917., 1918., 1919., 1920.,\n",
       "       1921., 1922., 1923., 1924., 1925., 1926., 1927., 1928., 1929.,\n",
       "       1930., 1931., 1932., 1933., 1934., 1935., 1936., 1937., 1938.,\n",
       "       1939., 1940., 1941., 1942., 1943., 1944., 1945., 1946., 1947.,\n",
       "       1948., 1949., 1950., 1951., 1952., 1953., 1954., 1955., 1956.,\n",
       "       1957., 1958., 1959., 1960., 1961., 1962., 1963., 1964., 1965.,\n",
       "       1966., 1967., 1968., 1969., 1970., 1971., 1972., 1973., 1974.,\n",
       "       1975., 1976., 1977., 1978., 1979., 1980., 1981., 1982., 1983.,\n",
       "       1984., 1985., 1986., 1987., 1988., 1989., 1990., 1991., 1992.,\n",
       "       1993., 1994., 1995., 1996., 1997., 1998., 1999., 2000., 2001.,\n",
       "       2002., 2003., 2004., 2005., 2006., 2007., 2008., 2009., 2010.,\n",
       "       2011., 2012., 2013.,   nan,   nan])"
      ]
     },
     "execution_count": 22,
     "metadata": {},
     "output_type": "execute_result"
    }
   ],
   "source": [
    "year"
   ]
  },
  {
   "cell_type": "code",
   "execution_count": 41,
   "metadata": {},
   "outputs": [
    {
     "data": {
      "text/plain": [
       "<matplotlib.legend.Legend at 0x191a8febec8>"
      ]
     },
     "execution_count": 41,
     "metadata": {},
     "output_type": "execute_result"
    },
    {
     "data": {
      "image/png": "[encoded data removed]",
      "text/plain": [
       "<Figure size 432x288 with 1 Axes>"
      ]
     },
     "metadata": {
      "needs_background": "light"
     },
     "output_type": "display_data"
    }
   ],
   "source": [
    "diag = plt.figure()\n",
    "\n",
    "ax = diag.add_axes([0,0,1,1])\n",
    "\n",
    "ax.plot(year, ma_HH, label=\"Hamburg\")\n",
    "ax.plot(year, ma_gl, label=\"Global\")\n",
    "ax.set_xlabel(\"Year\")\n",
    "ax.set_ylabel(\"°C\")\n",
    "ax.set_title(\"Temperature comparison between Hamburg and global\")\n",
    "ax.legend()"
   ]
  },
  {
   "cell_type": "code",
   "execution_count": 43,
   "metadata": {},
   "outputs": [],
   "source": [
    "diag.savefig(\"weather1.png\", bbox_inches = \"tight\", dpi=200)"
   ]
  },
  {
   "cell_type": "code",
   "execution_count": 3,
   "metadata": {},
   "outputs": [
    {
     "data": {
      "text/html": [
       "<div>\n",
       "<style scoped>\n",
       "    .dataframe tbody tr th:only-of-type {\n",
       "        vertical-align: middle;\n",
       "    }\n",
       "\n",
       "    .dataframe tbody tr th {\n",
       "        vertical-align: top;\n",
       "    }\n",
       "\n",
       "    .dataframe thead th {\n",
       "        text-align: right;\n",
       "    }\n",
       "</style>\n",
       "<table border=\"1\" class=\"dataframe\">\n",
       "  <thead>\n",
       "    <tr style=\"text-align: right;\">\n",
       "      <th></th>\n",
       "      <th>7day_ma_HH</th>\n",
       "      <th>7day_ma_gl</th>\n",
       "    </tr>\n",
       "  </thead>\n",
       "  <tbody>\n",
       "    <tr>\n",
       "      <th>7day_ma_HH</th>\n",
       "      <td>1.000000</td>\n",
       "      <td>0.803126</td>\n",
       "    </tr>\n",
       "    <tr>\n",
       "      <th>7day_ma_gl</th>\n",
       "      <td>0.803126</td>\n",
       "      <td>1.000000</td>\n",
       "    </tr>\n",
       "  </tbody>\n",
       "</table>\n",
       "</div>"
      ],
      "text/plain": [
       "            7day_ma_HH  7day_ma_gl\n",
       "7day_ma_HH    1.000000    0.803126\n",
       "7day_ma_gl    0.803126    1.000000"
      ]
     },
     "execution_count": 3,
     "metadata": {},
     "output_type": "execute_result"
    }
   ],
   "source": [
    "weather[[\"7day_ma_HH\", \"7day_ma_gl\"]].corr()"
   ]
  },
  {
   "cell_type": "code",
   "execution_count": 4,
   "metadata": {},
   "outputs": [
    {
     "data": {
      "text/html": [
       "<div>\n",
       "<style scoped>\n",
       "    .dataframe tbody tr th:only-of-type {\n",
       "        vertical-align: middle;\n",
       "    }\n",
       "\n",
       "    .dataframe tbody tr th {\n",
       "        vertical-align: top;\n",
       "    }\n",
       "\n",
       "    .dataframe thead th {\n",
       "        text-align: right;\n",
       "    }\n",
       "</style>\n",
       "<table border=\"1\" class=\"dataframe\">\n",
       "  <thead>\n",
       "    <tr style=\"text-align: right;\">\n",
       "      <th></th>\n",
       "      <th>year</th>\n",
       "      <th>7day_ma_gl</th>\n",
       "    </tr>\n",
       "  </thead>\n",
       "  <tbody>\n",
       "    <tr>\n",
       "      <th>year</th>\n",
       "      <td>1.00000</td>\n",
       "      <td>0.72392</td>\n",
       "    </tr>\n",
       "    <tr>\n",
       "      <th>7day_ma_gl</th>\n",
       "      <td>0.72392</td>\n",
       "      <td>1.00000</td>\n",
       "    </tr>\n",
       "  </tbody>\n",
       "</table>\n",
       "</div>"
      ],
      "text/plain": [
       "               year  7day_ma_gl\n",
       "year        1.00000     0.72392\n",
       "7day_ma_gl  0.72392     1.00000"
      ]
     },
     "execution_count": 4,
     "metadata": {},
     "output_type": "execute_result"
    }
   ],
   "source": [
    "weather[[\"year\", \"7day_ma_gl\"]].corr()"
   ]
  },
  {
   "cell_type": "code",
   "execution_count": null,
   "metadata": {},
   "outputs": [],
   "source": []
  }
 ],
 "metadata": {
  "kernelspec": {
   "display_name": "Python 3",
   "language": "python",
   "name": "python3"
  },
  "language_info": {
   "codemirror_mode": {
    "name": "ipython",
    "version": 3
   },
   "file_extension": ".py",
   "mimetype": "text/x-python",
   "name": "python",
   "nbconvert_exporter": "python",
   "pygments_lexer": "ipython3",
   "version": "3.7.6"
  }
 },
 "nbformat": 4,
 "nbformat_minor": 4
}
